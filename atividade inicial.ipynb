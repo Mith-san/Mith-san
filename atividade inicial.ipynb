{
  "nbformat": 4,
  "nbformat_minor": 0,
  "metadata": {
    "colab": {
      "provenance": [],
      "authorship_tag": "ABX9TyPAhpIwA3QX8XLObGbXe+RK",
      "include_colab_link": true
    },
    "kernelspec": {
      "name": "python3",
      "display_name": "Python 3"
    },
    "language_info": {
      "name": "python"
    }
  },
  "cells": [
    {
      "cell_type": "markdown",
      "metadata": {
        "id": "view-in-github",
        "colab_type": "text"
      },
      "source": [
        "<a href=\"https://colab.research.google.com/github/Mith-san/Mith-san/blob/main/atividade%20inicial.ipynb\" target=\"_parent\"><img src=\"https://colab.research.google.com/assets/colab-badge.svg\" alt=\"Open In Colab\"/></a>"
      ]
    },
    {
      "cell_type": "code",
      "execution_count": 1,
      "metadata": {
        "colab": {
          "base_uri": "https://localhost:8080/"
        },
        "id": "fV18rSGU-HXb",
        "outputId": "685368e5-c338-472f-f046-f55c32a113b5"
      },
      "outputs": [
        {
          "output_type": "stream",
          "name": "stdout",
          "text": [
            "Calculadora simples\n",
            "Qual operação deseja fazer?\n",
            "1. adição\n",
            "2. subtração\n",
            "3. multiplicação\n",
            "4. divisão\n",
            "  \n",
            "opção: 4\n",
            "digite o primeiro valor: 1\n",
            "digite o segundo valor: 1\n",
            "O resultado é:  1.0\n",
            "aperte 1 caso queira continuar: 1\n",
            "Calculadora simples\n",
            "Qual operação deseja fazer?\n",
            "1. adição\n",
            "2. subtração\n",
            "3. multiplicação\n",
            "4. divisão\n",
            "  \n",
            "opção: 4\n",
            "digite o primeiro valor: 6\n",
            "digite o segundo valor: 0\n",
            "Não é possível dividir por zero.\n",
            "aperte 1 caso queira continuar: p\n",
            "Entrada inválida. finalizando o codigo.\n"
          ]
        }
      ],
      "source": [
        "def calculate():\n",
        "    try:\n",
        "        print(\"Calculadora simples\")\n",
        "        print(\"Qual operação deseja fazer?\")\n",
        "        print(\"1. adição\")\n",
        "        print(\"2. subtração\")\n",
        "        print(\"3. multiplicação\")\n",
        "        print(\"4. divisão\")\n",
        "        print(\"  \")\n",
        "        w = int(input(\"opção: \"))\n",
        "        if w == 1:\n",
        "            n = int(input(\"digite o primeiro valor: \"))\n",
        "            y = int(input(\"digite o segundo valor: \"))\n",
        "            res = (n + y)\n",
        "            print(\"O resultado é: \", res)\n",
        "        elif w == 2:\n",
        "            n = int(input(\"digite o primeiro valor: \"))\n",
        "            y = int(input(\"digite o segundo valor: \"))\n",
        "            res = (n - y)\n",
        "            print(\"O resultado é: \", res)\n",
        "        elif w == 3:\n",
        "            n = int(input(\"digite o primeiro valor: \"))\n",
        "            y = int(input(\"digite o segundo valor: \"))\n",
        "            res = (n * y)\n",
        "            print(\"O resultado é: \", res)\n",
        "        elif w ==4:\n",
        "            n = int(input(\"digite o primeiro valor: \"))\n",
        "            y = int(input(\"digite o segundo valor: \"))\n",
        "            if y != 0:\n",
        "                res = (n / y)\n",
        "                print(\"O resultado é: \", res)\n",
        "            else:\n",
        "                print(\"Não é possível dividir por zero.\")\n",
        "                exit()\n",
        "\n",
        "        t = int(input(\"aperte 1 caso queira continuar: \"))\n",
        "        if t == 1:\n",
        "            calculate()\n",
        "        else:\n",
        "            print(\"fim\")\n",
        "            exit()\n",
        "    except ValueError:\n",
        "        print(\"Entrada inválida. finalizando o codigo.\")\n",
        "        # Optionally, you could call calculate() again here to allow the user to retry\n",
        "        # calculate()\n",
        "\n",
        "calculate()"
      ]
    }
  ]
}